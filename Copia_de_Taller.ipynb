{
  "nbformat": 4,
  "nbformat_minor": 0,
  "metadata": {
    "colab": {
      "provenance": [],
      "authorship_tag": "ABX9TyMtGkFYqJjeIH+JfmoiV/3B",
      "include_colab_link": true
    },
    "kernelspec": {
      "name": "python3",
      "display_name": "Python 3"
    },
    "language_info": {
      "name": "python"
    }
  },
  "cells": [
    {
      "cell_type": "markdown",
      "metadata": {
        "id": "view-in-github",
        "colab_type": "text"
      },
      "source": [
        "<a href=\"https://colab.research.google.com/github/GaelRodriguez33/Phyton_2024/blob/main/Copia_de_Taller.ipynb\" target=\"_parent\"><img src=\"https://colab.research.google.com/assets/colab-badge.svg\" alt=\"Open In Colab\"/></a>"
      ]
    },
    {
      "cell_type": "markdown",
      "source": [
        "# Taller"
      ],
      "metadata": {
        "id": "ZKLLGVbv382P"
      }
    },
    {
      "cell_type": "code",
      "source": [
        "import random\n",
        "def crear_diccionario():\n",
        "    # Listas de datos\n",
        "    ids = [1, 2, 3, 4, 5]  # IDs posibles\n",
        "    nombres = [\"Juan\", \"María\", \"Pedro\", \"Ana\", \"Luis\"]  # Nombres\n",
        "    appaternos = [\"Pérez\", \"González\", \"Hernández\", \"López\", \"Martínez\"]  # Apellidos paternos\n",
        "    apmaternos = [\"Sánchez\", \"Ramírez\", \"Flores\", \"Díaz\", \"Morales\"]  # Apellidos maternos\n",
        "    edades = [18, 19, 20, 21, 22]  # Edades\n",
        "    sexos = [\"M\", \"F\"]  # Sexos\n",
        "\n",
        "    num = random.randint(0, 5)\n",
        "\n",
        "    # Generar el diccionario\n",
        "    alumno = {\n",
        "        \"id\": ids[num - 1],  # se pone el numero de id del alumno\n",
        "        \"nombre\": nombres[num - 1],\n",
        "        \"appaterno\": appaternos[num - 1],\n",
        "        \"apmaterno\": apmaternos[num - 1],\n",
        "        \"edad\": edades[num - 1],\n",
        "        \"sexo\": sexos[0] if num % 2 else sexos[1],\n",
        "    }\n",
        "\n",
        "    return alumno\n",
        "\n",
        "    def imprimir_diccionario(alumno):\n",
        "        print(\"Información del Alumno:\")\n",
        "        print(f\"ID: {alumno['id']}\")\n",
        "        print(f\"Nombre: {alumno['nombre']}\")\n",
        "        print(f\"Apellido Paterno: {alumno['appaterno']}\")\n",
        "        print(f\"Apellido Materno: {alumno['apmaterno']}\")\n",
        "        print(f\"Edad: {alumno['edad']}\")\n",
        "        print(f\"Sexo: {alumno['sexo']}\")\n",
        "\n",
        "def main():\n",
        "    while True:\n",
        "        print(\"\\nMENÚ\")\n",
        "        print(\"1.- Crear Diccionario\")\n",
        "        print(\"2.- Imprimir Diccionario\")\n",
        "        print(\"0.- Salir\")\n",
        "\n",
        "        opcion = input(\"Seleccione una opción: \")\n",
        "\n",
        "        if opcion == '1':\n",
        "            alumno = crear_diccionario()\n",
        "            print(\"Diccionario creado con éxito.\")\n",
        "        elif opcion == '2':\n",
        "            if 'alumno' in locals():\n",
        "                imprimir_diccionario(alumno)\n",
        "            else:\n",
        "                print(\"Primero debe crear el diccionario.\")\n",
        "        elif opcion == '0':\n",
        "            print(\"Saliendo del programa...\")\n",
        "            break\n",
        "        else:\n",
        "            print(\"Opción no válida. Intente de nuevo.\")\n",
        "\n",
        "if __name__ == \"__main__\":\n",
        "    main()\n"
      ],
      "metadata": {
        "colab": {
          "base_uri": "https://localhost:8080/"
        },
        "id": "msnOf2p-7agg",
        "outputId": "1ed281d8-96af-445a-8201-d86602297c51"
      },
      "execution_count": null,
      "outputs": [
        {
          "output_type": "stream",
          "name": "stdout",
          "text": [
            "\n",
            "MENÚ\n",
            "1.- Crear Diccionario\n",
            "2.- Imprimir Diccionario\n",
            "0.- Salir\n",
            "Seleccione una opción: 1\n",
            "Diccionario creado con éxito.\n",
            "\n",
            "MENÚ\n",
            "1.- Crear Diccionario\n",
            "2.- Imprimir Diccionario\n",
            "0.- Salir\n",
            "Seleccione una opción: 2\n",
            "Información del Alumno:\n",
            "ID: 1\n",
            "Nombre: Juan\n",
            "Apellido Paterno: Pérez\n",
            "Apellido Materno: Sánchez\n",
            "Edad: 18\n",
            "Sexo: M\n",
            "\n",
            "MENÚ\n",
            "1.- Crear Diccionario\n",
            "2.- Imprimir Diccionario\n",
            "0.- Salir\n",
            "Seleccione una opción: 1\n",
            "Diccionario creado con éxito.\n",
            "\n",
            "MENÚ\n",
            "1.- Crear Diccionario\n",
            "2.- Imprimir Diccionario\n",
            "0.- Salir\n",
            "Seleccione una opción: 2\n",
            "Información del Alumno:\n",
            "ID: 5\n",
            "Nombre: Luis\n",
            "Apellido Paterno: Martínez\n",
            "Apellido Materno: Morales\n",
            "Edad: 22\n",
            "Sexo: M\n",
            "\n",
            "MENÚ\n",
            "1.- Crear Diccionario\n",
            "2.- Imprimir Diccionario\n",
            "0.- Salir\n",
            "Seleccione una opción: 0\n",
            "Saliendo del programa...\n"
          ]
        }
      ]
    }
  ]
}