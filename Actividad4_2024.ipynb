{
  "nbformat": 4,
  "nbformat_minor": 0,
  "metadata": {
    "colab": {
      "provenance": [],
      "authorship_tag": "ABX9TyOxm0QvQE8+ho07oNutM79s",
      "include_colab_link": true
    },
    "kernelspec": {
      "name": "python3",
      "display_name": "Python 3"
    },
    "language_info": {
      "name": "python"
    }
  },
  "cells": [
    {
      "cell_type": "markdown",
      "metadata": {
        "id": "view-in-github",
        "colab_type": "text"
      },
      "source": [
        "<a href=\"https://colab.research.google.com/github/GaelRodriguez33/Phyton_2024/blob/main/Actividad4_2024.ipynb\" target=\"_parent\"><img src=\"https://colab.research.google.com/assets/colab-badge.svg\" alt=\"Open In Colab\"/></a>"
      ]
    },
    {
      "cell_type": "markdown",
      "source": [
        "1.-\n",
        "\n",
        "Programa en Python que genere 40 números aleatorios entre el 0 y 200, desplegar los números y la leyenda de cada número si es par o impar , la cantidad de los números pares e impares así como la suma de los números pares o impares."
      ],
      "metadata": {
        "id": "xLutQuYN2btH"
      }
    },
    {
      "cell_type": "code",
      "execution_count": null,
      "metadata": {
        "colab": {
          "base_uri": "https://localhost:8080/"
        },
        "id": "cdRh5zhyz1ji",
        "outputId": "fde370b0-9975-470e-e224-b0a35d7da17d"
      },
      "outputs": [
        {
          "output_type": "stream",
          "name": "stdout",
          "text": [
            "52 es par\n",
            "87 es impar\n",
            "195 es impar\n",
            "56 es par\n",
            "13 es impar\n",
            "115 es impar\n",
            "171 es impar\n",
            "121 es impar\n",
            "62 es par\n",
            "110 es par\n",
            "118 es par\n",
            "124 es par\n",
            "146 es par\n",
            "192 es par\n",
            "153 es impar\n",
            "186 es par\n",
            "139 es impar\n",
            "167 es impar\n",
            "46 es par\n",
            "63 es impar\n",
            "69 es impar\n",
            "143 es impar\n",
            "53 es impar\n",
            "187 es impar\n",
            "108 es par\n",
            "94 es par\n",
            "14 es par\n",
            "21 es impar\n",
            "19 es impar\n",
            "163 es impar\n",
            "172 es par\n",
            "52 es par\n",
            "82 es par\n",
            "2 es par\n",
            "160 es par\n",
            "101 es impar\n",
            "146 es par\n",
            "21 es impar\n",
            "22 es par\n",
            "185 es impar\n",
            "\n",
            "Cantidad de números pares: 20\n",
            "Cantidad de números impares: 20\n",
            "Suma de números pares: 1944\n",
            "Suma de números impares: 2186\n"
          ]
        }
      ],
      "source": [
        "import random\n",
        "\n",
        "# Inicialización de variables\n",
        "números = []\n",
        "pares = 0\n",
        "impares = 0\n",
        "suma_pares = 0\n",
        "suma_impares = 0\n",
        "\n",
        "# Generar 40 números aleatorios entre 0 y 200\n",
        "i = 0\n",
        "while i < 40:\n",
        "    número = random.randint(0, 200)\n",
        "    números.append(número)\n",
        "    i += 1\n",
        "\n",
        "# Mostrar los números y si son pares o impares\n",
        "for número in números:\n",
        "    if número % 2 == 0:\n",
        "        print(f\"{número} es par\")\n",
        "        pares += 1\n",
        "        suma_pares += número\n",
        "    else:\n",
        "        print(f\"{número} es impar\")\n",
        "        impares += 1\n",
        "        suma_impares += número\n",
        "\n",
        "# Mostrar conteos y sumas\n",
        "print(f\"\\nCantidad de números pares: {pares}\")\n",
        "print(f\"Cantidad de números impares: {impares}\")\n",
        "print(f\"Suma de números pares: {suma_pares}\")\n",
        "print(f\"Suma de números impares: {suma_impares}\")\n"
      ]
    },
    {
      "cell_type": "markdown",
      "source": [
        "2.-\n",
        "\n",
        " Programa en Python que despliegue la tabla de multiplicar de un número dado\n",
        "(número entre el 1 y 20).\n",
        "\n",
        "Tabla del 5"
      ],
      "metadata": {
        "id": "2h7NOzFe3wuV"
      }
    },
    {
      "cell_type": "code",
      "source": [
        "# Solicita al usuario un número entre 1 y 20\n",
        "numero = int(input(\"Introduce un número entre 1 y 20: \"))\n",
        "\n",
        "# Verifica que el número esté dentro del rango permitido\n",
        "if 1 <= numero <= 20:\n",
        "    print(f\"Tabla de multiplicar del {numero}:\")\n",
        "    for i in range(1, 11):\n",
        "        print(f\"{numero} x {i} = {numero * i}\")\n",
        "else:\n",
        "    print(\"El número debe estar entre 1 y 20.\")\n"
      ],
      "metadata": {
        "id": "KCbm2qu43aT-"
      },
      "execution_count": null,
      "outputs": []
    },
    {
      "cell_type": "markdown",
      "source": [
        "3.- Programa en Python que lea una calificación, las calificación deberá estar en el\n",
        "rango de 0 a 100, si hay un error de captura, mostrar mensaje de error. con la\n",
        "calificación correcta mostrar msg de aprobado reprobado."
      ],
      "metadata": {
        "id": "pPEDc_-zUhgn"
      }
    },
    {
      "cell_type": "code",
      "source": [
        "# Solicita al usuario que ingrese una calificación\n",
        "try:\n",
        "    calificacion = int(input(\"Introduce una calificación entre 0 y 100: \"))\n",
        "\n",
        "    # Verifica si la calificación está dentro del rango\n",
        "    if 0 <= calificacion <= 100:\n",
        "        if calificacion >= 60:\n",
        "            print(f\"Calificación {calificacion}: ¡Aprobado!\")\n",
        "        else:\n",
        "            print(f\"Calificación {calificacion}: Reprobado.\")\n",
        "    else:\n",
        "        print(\"Error: La calificación debe estar entre 0 y 100.\")\n",
        "\n",
        "except ValueError:\n",
        "    print(\"Error: Debes introducir un número entero válido.\")\n"
      ],
      "metadata": {
        "id": "xBFjTou3UhIu"
      },
      "execution_count": null,
      "outputs": []
    },
    {
      "cell_type": "markdown",
      "source": [
        "4.- Programa en Python que lea n cantidad de números enteros dentro de un rango\n",
        "dado (> 0 ) , el programa deberá terminar cuando el usuario introduzca el número\n",
        "cero.\n",
        "\n",
        "desplegar la suma de números y la media."
      ],
      "metadata": {
        "id": "DQvvZ6XvUFlK"
      }
    },
    {
      "cell_type": "code",
      "source": [
        "# Inicialización de variables\n",
        "suma = 0\n",
        "contador = 0\n",
        "\n",
        "print(\"Introduce números enteros mayores que 0. Para terminar, introduce 0.\")\n",
        "\n",
        "while True:\n",
        "    # Solicitar al usuario que ingrese un número\n",
        "    numero = int(input(\"Introduce un número: \"))\n",
        "\n",
        "    # Si el número es 0, se termina el ciclo\n",
        "    if numero == 0:\n",
        "        break\n",
        "\n",
        "    # Verificar si el número es mayor a 0\n",
        "    if numero > 0:\n",
        "        suma += numero\n",
        "        contador += 1\n",
        "    else:\n",
        "        print(\"El número debe ser mayor que 0.\")\n",
        "\n",
        "# Verificar si se han introducido números válidos\n",
        "if contador > 0:\n",
        "    media = suma / contador\n",
        "    print(f\"Suma de los números: {suma}\")\n",
        "    print(f\"Media de los números: {media:.2f}\")\n",
        "else:\n",
        "    print(\"No se han introducido números válidos.\")\n"
      ],
      "metadata": {
        "id": "E0SxbxOdUB47"
      },
      "execution_count": null,
      "outputs": []
    },
    {
      "cell_type": "markdown",
      "source": [
        "5.- Programa en Python que sirva para leer el promedio de una materia. donde el\n",
        "usuario tendrá un máximo de 3 oportunidades de cursar la materia, si el promedio es\n",
        "aprobado, felicitarlo y continuar el siguiente semestre, si promedio es reprobado\n",
        "deberá salir mensaje de repetir materia o es baja académica si ha reprobado 3 veces."
      ],
      "metadata": {
        "id": "up-OF-L_UWKM"
      }
    },
    {
      "cell_type": "code",
      "source": [
        "# Definir el número máximo de intentos\n",
        "max_intentos = 3\n",
        "intentos = 0\n",
        "\n",
        "# Ciclo para realizar hasta 3 intentos\n",
        "while intentos < max_intentos:\n",
        "    try:\n",
        "        # Leer el promedio\n",
        "        promedio = float(input(f\"Introduce el promedio para la materia (Intento {intentos + 1}/{max_intentos}): \"))\n",
        "\n",
        "        # Verificar si el promedio está dentro del rango válido\n",
        "        if 0 <= promedio <= 100:\n",
        "            # Verificar si ha aprobado o reprobado\n",
        "            if promedio >= 60:\n",
        "                print(\"¡Felicidades! Has aprobado la materia. Puedes continuar al siguiente semestre.\")\n",
        "                break\n",
        "            else:\n",
        "                intentos += 1\n",
        "                if intentos < max_intentos:\n",
        "                    print(f\"Has reprobado. Deberás repetir la materia. Te quedan {max_intentos - intentos} intentos.\")\n",
        "                else:\n",
        "                    print(\"Has reprobado 3 veces. Es baja académica.\")\n",
        "        else:\n",
        "            print(\"Error: El promedio debe estar entre 0 y 100.\")\n",
        "    except ValueError:\n",
        "        print(\"Error: Debes introducir un valor numérico válido.\")\n"
      ],
      "metadata": {
        "id": "fJwXPsfbUy7F"
      },
      "execution_count": null,
      "outputs": []
    }
  ]
}