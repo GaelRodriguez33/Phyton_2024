{
  "nbformat": 4,
  "nbformat_minor": 0,
  "metadata": {
    "colab": {
      "provenance": [],
      "authorship_tag": "ABX9TyMwz6WOLakga686bocfCLCw",
      "include_colab_link": true
    },
    "kernelspec": {
      "name": "python3",
      "display_name": "Python 3"
    },
    "language_info": {
      "name": "python"
    }
  },
  "cells": [
    {
      "cell_type": "markdown",
      "metadata": {
        "id": "view-in-github",
        "colab_type": "text"
      },
      "source": [
        "<a href=\"https://colab.research.google.com/github/GaelRodriguez33/Phyton_2024/blob/main/2_Sep_2024.ipynb\" target=\"_parent\"><img src=\"https://colab.research.google.com/assets/colab-badge.svg\" alt=\"Open In Colab\"/></a>"
      ]
    },
    {
      "cell_type": "code",
      "execution_count": 1,
      "metadata": {
        "colab": {
          "base_uri": "https://localhost:8080/"
        },
        "id": "LztKJHzBndeN",
        "outputId": "ed822120-68d8-40d2-8039-3c150020dcfd"
      },
      "outputs": [
        {
          "output_type": "stream",
          "name": "stdout",
          "text": [
            "0\n",
            "1\n",
            "2\n",
            "3\n",
            "4\n",
            "5\n",
            "6\n",
            "7\n",
            "8\n",
            "9\n"
          ]
        }
      ],
      "source": [
        "i = 0\n",
        "while i < 10:\n",
        "    print(i)\n",
        "    i = i + 1\n"
      ]
    },
    {
      "cell_type": "code",
      "source": [
        "band = True\n",
        "while band:\n",
        "    num = int(input(\"DAME UN NUMERO O CERO PARA SALIR \"))\n",
        "    if num == 0:\n",
        "        band = False\n",
        ""
      ],
      "metadata": {
        "colab": {
          "base_uri": "https://localhost:8080/"
        },
        "id": "hzrp8-5fuijv",
        "outputId": "218f7e4e-fb7c-46c0-fd1b-9bf204cf8d54"
      },
      "execution_count": 3,
      "outputs": [
        {
          "name": "stdout",
          "output_type": "stream",
          "text": [
            "DAME UN NUMERO O CERO PARA SALIR 8\n",
            "DAME UN NUMERO O CERO PARA SALIR 9\n",
            "DAME UN NUMERO O CERO PARA SALIR 7\n",
            "DAME UN NUMERO O CERO PARA SALIR 4\n",
            "DAME UN NUMERO O CERO PARA SALIR 0\n"
          ]
        }
      ]
    },
    {
      "cell_type": "code",
      "source": [
        "while True:\n",
        "    num = int(input(\"DAME UN NUMERO O CERO PARA SALIR \"))\n",
        "    if num == 0:\n",
        "        break\n"
      ],
      "metadata": {
        "colab": {
          "base_uri": "https://localhost:8080/"
        },
        "id": "L9O1RsHrvpha",
        "outputId": "a6c3e794-bda7-4691-bdeb-bc27891253be"
      },
      "execution_count": 4,
      "outputs": [
        {
          "name": "stdout",
          "output_type": "stream",
          "text": [
            "DAME UN NUMERO O CERO PARA SALIR 5\n",
            "DAME UN NUMERO O CERO PARA SALIR 6\n",
            "DAME UN NUMERO O CERO PARA SALIR 7\n",
            "DAME UN NUMERO O CERO PARA SALIR 0\n"
          ]
        }
      ]
    },
    {
      "cell_type": "code",
      "source": [
        "suma = 0\n",
        "i = 0\n",
        "while i < 10:\n",
        "   num = int(input(\"DAME UN NUMERO \"))\n",
        "   if num == 0:\n",
        "       break\n",
        "   suma = suma + num\n",
        "if i == 10:\n",
        "  print(f\"LA SUMA DE LOS NUMEROS = { suma} \")"
      ],
      "metadata": {
        "colab": {
          "base_uri": "https://localhost:8080/"
        },
        "id": "7uRDSc7PwBg-",
        "outputId": "58c30659-eb69-4a0a-ca97-72ef6163fd95"
      },
      "execution_count": 5,
      "outputs": [
        {
          "name": "stdout",
          "output_type": "stream",
          "text": [
            "DAME UN NUMERO 6\n",
            "DAME UN NUMERO 7\n",
            "DAME UN NUMERO 8\n",
            "DAME UN NUMERO 9\n",
            "DAME UN NUMERO 1\n",
            "DAME UN NUMERO 1\n",
            "DAME UN NUMERO 0\n"
          ]
        }
      ]
    },
    {
      "cell_type": "code",
      "source": [
        "for i in range(10):\n",
        "    print(i)"
      ],
      "metadata": {
        "colab": {
          "base_uri": "https://localhost:8080/"
        },
        "id": "2qob8M4AyUhx",
        "outputId": "07d6c435-d8d7-447e-8b5e-95cc39c7eebb"
      },
      "execution_count": 6,
      "outputs": [
        {
          "output_type": "stream",
          "name": "stdout",
          "text": [
            "0\n",
            "1\n",
            "2\n",
            "3\n",
            "4\n",
            "5\n",
            "6\n",
            "7\n",
            "8\n",
            "9\n"
          ]
        }
      ]
    },
    {
      "cell_type": "markdown",
      "source": [
        "Star/ Stop/ Step"
      ],
      "metadata": {
        "id": "En5bNBL4y_f3"
      }
    },
    {
      "cell_type": "code",
      "source": [
        "for i in range(10,1,-2):\n",
        "    print(i)"
      ],
      "metadata": {
        "colab": {
          "base_uri": "https://localhost:8080/"
        },
        "id": "p-KUjsCRykDe",
        "outputId": "9fb08fc1-9cad-48ad-d677-6f28541c70f2"
      },
      "execution_count": 9,
      "outputs": [
        {
          "output_type": "stream",
          "name": "stdout",
          "text": [
            "10\n",
            "8\n",
            "6\n",
            "4\n",
            "2\n"
          ]
        }
      ]
    }
  ]
}